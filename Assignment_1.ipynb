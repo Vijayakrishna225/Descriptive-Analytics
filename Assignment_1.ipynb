{
 "cells": [
  {
   "cell_type": "code",
   "execution_count": 46,
   "id": "77d84542-9b40-4e9e-b772-ce5c2f3a1d2e",
   "metadata": {},
   "outputs": [],
   "source": [
    "import pandas as pd\n",
    "import matplotlib.pyplot as plt     #importing the required libraries\n",
    "import numpy as np"
   ]
  },
  {
   "cell_type": "code",
   "execution_count": 58,
   "id": "1dad92c8-242c-487c-9cc5-8efabf3099c6",
   "metadata": {},
   "outputs": [],
   "source": [
    "                             #  <DESCRIPTIVE ANALYTICS FOR NUMERICAL COLUMNS>"
   ]
  },
  {
   "cell_type": "code",
   "execution_count": 59,
   "id": "ed7c59b5-5762-43da-9f0c-5457c4801baa",
   "metadata": {},
   "outputs": [],
   "source": [
    "                #  <LOADING THE DATASET>\n",
    "df=pd.read_csv(r\"C:\\Users\\sms2v\\OneDrive\\Desktop\\Data Science\\DS assignments\\1.Basic stats - 1\\Basic stats - 1\\sales_data_with_discounts.csv\")"
   ]
  },
  {
   "cell_type": "code",
   "execution_count": 89,
   "id": "a824a7dc-64e9-4f97-a3e8-94fab25be348",
   "metadata": {},
   "outputs": [
    {
     "name": "stdout",
     "output_type": "stream",
     "text": [
      "Numerical columns in the dataset are:\n"
     ]
    },
    {
     "data": {
      "text/html": [
       "<div>\n",
       "<style scoped>\n",
       "    .dataframe tbody tr th:only-of-type {\n",
       "        vertical-align: middle;\n",
       "    }\n",
       "\n",
       "    .dataframe tbody tr th {\n",
       "        vertical-align: top;\n",
       "    }\n",
       "\n",
       "    .dataframe thead th {\n",
       "        text-align: right;\n",
       "    }\n",
       "</style>\n",
       "<table border=\"1\" class=\"dataframe\">\n",
       "  <thead>\n",
       "    <tr style=\"text-align: right;\">\n",
       "      <th></th>\n",
       "      <th>Volume</th>\n",
       "      <th>Avg Price</th>\n",
       "      <th>Total Sales Value</th>\n",
       "      <th>Discount Rate (%)</th>\n",
       "      <th>Discount Amount</th>\n",
       "      <th>Net Sales Value</th>\n",
       "    </tr>\n",
       "  </thead>\n",
       "  <tbody>\n",
       "    <tr>\n",
       "      <th>0</th>\n",
       "      <td>15</td>\n",
       "      <td>12100</td>\n",
       "      <td>181500</td>\n",
       "      <td>11.654820</td>\n",
       "      <td>21153.498820</td>\n",
       "      <td>160346.50120</td>\n",
       "    </tr>\n",
       "    <tr>\n",
       "      <th>1</th>\n",
       "      <td>10</td>\n",
       "      <td>10100</td>\n",
       "      <td>101000</td>\n",
       "      <td>11.560498</td>\n",
       "      <td>11676.102960</td>\n",
       "      <td>89323.89704</td>\n",
       "    </tr>\n",
       "    <tr>\n",
       "      <th>2</th>\n",
       "      <td>7</td>\n",
       "      <td>16100</td>\n",
       "      <td>112700</td>\n",
       "      <td>9.456886</td>\n",
       "      <td>10657.910160</td>\n",
       "      <td>102042.08980</td>\n",
       "    </tr>\n",
       "    <tr>\n",
       "      <th>3</th>\n",
       "      <td>6</td>\n",
       "      <td>20100</td>\n",
       "      <td>120600</td>\n",
       "      <td>6.935385</td>\n",
       "      <td>8364.074702</td>\n",
       "      <td>112235.92530</td>\n",
       "    </tr>\n",
       "    <tr>\n",
       "      <th>4</th>\n",
       "      <td>3</td>\n",
       "      <td>8100</td>\n",
       "      <td>24300</td>\n",
       "      <td>17.995663</td>\n",
       "      <td>4372.946230</td>\n",
       "      <td>19927.05377</td>\n",
       "    </tr>\n",
       "  </tbody>\n",
       "</table>\n",
       "</div>"
      ],
      "text/plain": [
       "   Volume  Avg Price  Total Sales Value  Discount Rate (%)  Discount Amount  \\\n",
       "0      15      12100             181500          11.654820     21153.498820   \n",
       "1      10      10100             101000          11.560498     11676.102960   \n",
       "2       7      16100             112700           9.456886     10657.910160   \n",
       "3       6      20100             120600           6.935385      8364.074702   \n",
       "4       3       8100              24300          17.995663      4372.946230   \n",
       "\n",
       "   Net Sales Value  \n",
       "0     160346.50120  \n",
       "1      89323.89704  \n",
       "2     102042.08980  \n",
       "3     112235.92530  \n",
       "4      19927.05377  "
      ]
     },
     "execution_count": 89,
     "metadata": {},
     "output_type": "execute_result"
    }
   ],
   "source": [
    "                 #  <IDENTIFYING THE NUMERICAL DATASETS>\n",
    "Numerical_data=df.select_dtypes(include=[\"int64\",\"float64\"])\n",
    "print(\"Numerical columns in the dataset are:\")\n",
    "Numerical_data.head()  "
   ]
  },
  {
   "cell_type": "code",
   "execution_count": 61,
   "id": "b9a07b68-4d41-47b7-83d9-cb652b45db97",
   "metadata": {},
   "outputs": [
    {
     "data": {
      "text/plain": [
       "Volume                   5.066667\n",
       "Avg Price            10453.433333\n",
       "Total Sales Value    33812.835556\n",
       "Discount Rate (%)       15.155242\n",
       "Discount Amount       3346.499424\n",
       "Net Sales Value      30466.336131\n",
       "dtype: float64"
      ]
     },
     "execution_count": 61,
     "metadata": {},
     "output_type": "execute_result"
    }
   ],
   "source": [
    "#  <Mean values>\n",
    "Numerical_data.mean()   "
   ]
  },
  {
   "cell_type": "code",
   "execution_count": 62,
   "id": "e5770b73-c8f9-437a-b673-160d11459b4b",
   "metadata": {},
   "outputs": [
    {
     "data": {
      "text/plain": [
       "Volume                  4.000000\n",
       "Avg Price            1450.000000\n",
       "Total Sales Value    5700.000000\n",
       "Discount Rate (%)      16.577766\n",
       "Discount Amount       988.933733\n",
       "Net Sales Value      4677.788059\n",
       "dtype: float64"
      ]
     },
     "execution_count": 62,
     "metadata": {},
     "output_type": "execute_result"
    }
   ],
   "source": [
    "#  <Median values>\n",
    "Numerical_data.median()   "
   ]
  },
  {
   "cell_type": "code",
   "execution_count": 63,
   "id": "1f17443a-816f-466c-9b6a-94da1fe7673b",
   "metadata": {},
   "outputs": [
    {
     "data": {
      "text/plain": [
       "Volume                   3.000000\n",
       "Avg Price              400.000000\n",
       "Total Sales Value    24300.000000\n",
       "Discount Rate (%)        5.007822\n",
       "Discount Amount         69.177942\n",
       "Net Sales Value        326.974801\n",
       "Name: 0, dtype: float64"
      ]
     },
     "execution_count": 63,
     "metadata": {},
     "output_type": "execute_result"
    }
   ],
   "source": [
    "#  <Mode values>\n",
    "Numerical_data.mode().iloc[0]   "
   ]
  },
  {
   "cell_type": "code",
   "execution_count": 64,
   "id": "e5519e89-d53e-4d2d-8382-be8182d7659a",
   "metadata": {},
   "outputs": [
    {
     "data": {
      "text/plain": [
       "Volume                   4.231602\n",
       "Avg Price            18079.904840\n",
       "Total Sales Value    50535.074173\n",
       "Discount Rate (%)        4.220602\n",
       "Discount Amount       4509.902963\n",
       "Net Sales Value      46358.656624\n",
       "dtype: float64"
      ]
     },
     "execution_count": 64,
     "metadata": {},
     "output_type": "execute_result"
    }
   ],
   "source": [
    "#  <Standard deviation values>\n",
    "Numerical_data.std()   "
   ]
  },
  {
   "cell_type": "code",
   "execution_count": 65,
   "id": "86030310-63d0-4a44-a490-153973d8b6ca",
   "metadata": {},
   "outputs": [
    {
     "name": "stdout",
     "output_type": "stream",
     "text": [
      "<class 'pandas.core.frame.DataFrame'>\n",
      "RangeIndex: 450 entries, 0 to 449\n",
      "Data columns (total 6 columns):\n",
      " #   Column             Non-Null Count  Dtype  \n",
      "---  ------             --------------  -----  \n",
      " 0   Volume             450 non-null    int64  \n",
      " 1   Avg Price          450 non-null    int64  \n",
      " 2   Total Sales Value  450 non-null    int64  \n",
      " 3   Discount Rate (%)  450 non-null    float64\n",
      " 4   Discount Amount    450 non-null    float64\n",
      " 5   Net Sales Value    450 non-null    float64\n",
      "dtypes: float64(3), int64(3)\n",
      "memory usage: 21.2 KB\n"
     ]
    }
   ],
   "source": [
    "#  <ABOUT THE NUMERICAL DATA>\n",
    "Numerical_data.info() "
   ]
  },
  {
   "cell_type": "code",
   "execution_count": 66,
   "id": "083fc123-41fd-4dc8-bde6-3dd838170e73",
   "metadata": {},
   "outputs": [],
   "source": [
    "             #  <BRIEF interpretation of these statistics>\n",
    "#Mean--> provides the average of given data\n",
    "#Median--> provides the middle vale of the data\n",
    "#Mode--> povides the highest repeated no. in the data\n",
    "#standard deviation--> It tells us how much a value is deviated form the mean value"
   ]
  },
  {
   "cell_type": "code",
   "execution_count": 67,
   "id": "f8c713fd-5bff-4555-8542-506b0f16dfd8",
   "metadata": {},
   "outputs": [],
   "source": [
    "                                #  <DATA VIZUALIZATION>"
   ]
  },
  {
   "cell_type": "code",
   "execution_count": 68,
   "id": "03d11780-8758-4ec7-b6aa-33a8d1505473",
   "metadata": {},
   "outputs": [],
   "source": [
    "#  <Histogram>"
   ]
  },
  {
   "cell_type": "code",
   "execution_count": 69,
   "id": "4dd93806-9c29-493e-88c5-220d3b4b8f8a",
   "metadata": {},
   "outputs": [
    {
     "name": "stdout",
     "output_type": "stream",
     "text": [
      "Skeweness: 2.731723626557714\n",
      "No. of outliers: 44\n"
     ]
    },
    {
     "data": {
      "image/png": "[encoded data removed]",
      "text/plain": [
       "<Figure size 640x480 with 1 Axes>"
      ]
     },
     "metadata": {},
     "output_type": "display_data"
    }
   ],
   "source": [
    "df[\"Volume\"].hist()  \n",
    "print(\"Skeweness:\",df[\"Volume\"].skew())      \n",
    "q1=np.percentile(df[\"Volume\"],25)\n",
    "q3=np.percentile(df[\"Volume\"],75)\n",
    "IQR=q3-q1\n",
    "UW=q3+1.5*IQR\n",
    "Outliers=df[\"Volume\"][df[\"Volume\"]>UW]\n",
    "print(\"No. of outliers:\",len(Outliers))"
   ]
  },
  {
   "cell_type": "code",
   "execution_count": 70,
   "id": "a26e7743-d031-4354-93af-dc288071649c",
   "metadata": {},
   "outputs": [
    {
     "name": "stdout",
     "output_type": "stream",
     "text": [
      "Skeweness: 1.9088730767759727\n",
      "No. of outliers: 60\n"
     ]
    },
    {
     "data": {
      "image/png": "[encoded data removed]",
      "text/plain": [
       "<Figure size 640x480 with 1 Axes>"
      ]
     },
     "metadata": {},
     "output_type": "display_data"
    }
   ],
   "source": [
    "df[\"Avg Price\"].hist()   \n",
    "print(\"Skeweness:\",df[\"Avg Price\"].skew())      \n",
    "q1=np.percentile(df[\"Avg Price\"],25)\n",
    "q3=np.percentile(df[\"Avg Price\"],75)\n",
    "IQR=q3-q1\n",
    "UW=q3+1.5*IQR\n",
    "Outliers=df[\"Avg Price\"][df[\"Avg Price\"]>UW]\n",
    "print(\"No. of outliers:\",len(Outliers))"
   ]
  },
  {
   "cell_type": "code",
   "execution_count": 71,
   "id": "7ccf60b3-7580-4ad2-bfc8-08bcd2036c1d",
   "metadata": {},
   "outputs": [
    {
     "name": "stdout",
     "output_type": "stream",
     "text": [
      "Skeweness: 1.5347293238977937\n",
      "No. of outliers: 36\n"
     ]
    },
    {
     "data": {
      "image/png": "[encoded data removed]",
      "text/plain": [
       "<Figure size 640x480 with 1 Axes>"
      ]
     },
     "metadata": {},
     "output_type": "display_data"
    }
   ],
   "source": [
    "df[\"Total Sales Value\"].hist()  \n",
    "print(\"Skeweness:\",df[\"Total Sales Value\"].skew())      \n",
    "q1=np.percentile(df[\"Total Sales Value\"],25)\n",
    "q3=np.percentile(df[\"Total Sales Value\"],75)\n",
    "IQR=q3-q1\n",
    "UW=q3+1.5*IQR\n",
    "Outliers=df[\"Total Sales Value\"][df[\"Total Sales Value\"]>UW]\n",
    "print(\"No. of outliers:\",len(Outliers))"
   ]
  },
  {
   "cell_type": "code",
   "execution_count": 72,
   "id": "b2e87290-6c7f-43a1-b72f-fbb2f95eeb09",
   "metadata": {},
   "outputs": [
    {
     "name": "stdout",
     "output_type": "stream",
     "text": [
      "Skeweness: -1.0622943696938842\n",
      "No. of outliers: 450\n"
     ]
    },
    {
     "data": {
      "image/png": "[encoded data removed]",
      "text/plain": [
       "<Figure size 640x480 with 1 Axes>"
      ]
     },
     "metadata": {},
     "output_type": "display_data"
    }
   ],
   "source": [
    "df[\"Discount Rate (%)\"].hist()\n",
    "print(\"Skeweness:\",df[\"Discount Rate (%)\"].skew())      \n",
    "q1=np.percentile(df[\"Discount Rate (%)\"],25)\n",
    "q3=np.percentile(df[\"Discount Rate (%)\"],75)\n",
    "IQR=q3-q1\n",
    "UW=q3+1.5*IQR\n",
    "Outliers=df[\"Discount Rate (%)\"][df[\"Discount Rate (%)\"]<UW]\n",
    "print(\"No. of outliers:\",len(Outliers))"
   ]
  },
  {
   "cell_type": "code",
   "execution_count": 73,
   "id": "e5c177c8-3902-43cd-b7c4-049540fd43f9",
   "metadata": {},
   "outputs": [
    {
     "name": "stdout",
     "output_type": "stream",
     "text": [
      "Skeweness: 1.9130377337693047\n",
      "No. of outliers: 24\n"
     ]
    },
    {
     "data": {
      "image/png": "[encoded data removed]",
      "text/plain": [
       "<Figure size 640x480 with 1 Axes>"
      ]
     },
     "metadata": {},
     "output_type": "display_data"
    }
   ],
   "source": [
    "df[\"Discount Amount\"].hist()\n",
    "print(\"Skeweness:\",df[\"Discount Amount\"].skew())      \n",
    "q1=np.percentile(df[\"Discount Amount\"],25)\n",
    "q3=np.percentile(df[\"Discount Amount\"],75)\n",
    "IQR=q3-q1\n",
    "UW=q3+1.5*IQR\n",
    "Outliers=df[\"Discount Amount\"][df[\"Discount Amount\"]>UW]\n",
    "print(\"No. of outliers:\",len(Outliers))"
   ]
  },
  {
   "cell_type": "code",
   "execution_count": 27,
   "id": "2a1dcd4c-8e1e-49d0-875a-bfa7f2a9a30f",
   "metadata": {},
   "outputs": [
    {
     "name": "stdout",
     "output_type": "stream",
     "text": [
      "Skeweness: 1.5408217575596008\n",
      "No. of outliers: 35\n"
     ]
    },
    {
     "data": {
      "image/png": "[encoded data removed]",
      "text/plain": [
       "<Figure size 640x480 with 1 Axes>"
      ]
     },
     "metadata": {},
     "output_type": "display_data"
    }
   ],
   "source": [
    "df[\"Net Sales Value\"].hist()\n",
    "print(\"Skeweness:\",df[\"Net Sales Value\"].skew())      \n",
    "q1=np.percentile(df[\"Net Sales Value\"],25)\n",
    "q3=np.percentile(df[\"Net Sales Value\"],75)\n",
    "IQR=q3-q1\n",
    "UW=q3+1.5*IQR\n",
    "Outliers=df[\"Net Sales Value\"][df[\"Net Sales Value\"]>UW]\n",
    "print(\"No. of outliers:\",len(Outliers))"
   ]
  },
  {
   "cell_type": "code",
   "execution_count": 74,
   "id": "e9351e4f-f87b-4d25-8e1c-5b07bc490d96",
   "metadata": {},
   "outputs": [],
   "source": [
    "                                 #  <BOX PLOT>"
   ]
  },
  {
   "cell_type": "code",
   "execution_count": 77,
   "id": "cd0b2aff-6e50-4527-abf1-c4b49557cb9b",
   "metadata": {},
   "outputs": [
    {
     "name": "stdout",
     "output_type": "stream",
     "text": [
      "The extreme values(Outliers)are: \n",
      " 0      15\n",
      "10     13\n",
      "30     11\n",
      "40     29\n",
      "50     13\n",
      "70     24\n",
      "71     14\n",
      "80     12\n",
      "100    25\n",
      "101    15\n",
      "102    11\n",
      "130    15\n",
      "140    14\n",
      "161    12\n",
      "170    12\n",
      "180    12\n",
      "190    22\n",
      "192    11\n",
      "193    11\n",
      "200    12\n",
      "201    12\n",
      "210    14\n",
      "221    11\n",
      "222    11\n",
      "240    15\n",
      "250    31\n",
      "251    12\n",
      "260    16\n",
      "280    24\n",
      "281    11\n",
      "282    12\n",
      "300    12\n",
      "310    22\n",
      "312    11\n",
      "320    13\n",
      "340    15\n",
      "350    12\n",
      "370    14\n",
      "371    14\n",
      "390    11\n",
      "400    29\n",
      "410    15\n",
      "420    13\n",
      "431    17\n",
      "Name: Volume, dtype: int64\n"
     ]
    },
    {
     "data": {
      "image/png": "[encoded data removed]",
      "text/plain": [
       "<Figure size 640x480 with 1 Axes>"
      ]
     },
     "metadata": {},
     "output_type": "display_data"
    }
   ],
   "source": [
    "df[\"Volume\"].plot(kind=\"box\",vert=False)    \n",
    "q1=np.percentile(df[\"Volume\"],25)\n",
    "q3=np.percentile(df[\"Volume\"],75)\n",
    "IQR=q3-q1\n",
    "UW=q3+1.5*IQR\n",
    "Outliers=df[\"Volume\"][df[\"Volume\"]>UW]\n",
    "print(\"The extreme values(Outliers)are:\",\"\\n\",Outliers)"
   ]
  },
  {
   "cell_type": "code",
   "execution_count": 78,
   "id": "bf74ae8d-bc47-47fd-a54d-584237cc7ea5",
   "metadata": {},
   "outputs": [
    {
     "name": "stdout",
     "output_type": "stream",
     "text": [
      "The extreme values(Outliers)are: \n",
      " 6      49100\n",
      "7      54100\n",
      "8      55100\n",
      "9      60100\n",
      "36     49100\n",
      "37     54100\n",
      "38     55100\n",
      "39     60100\n",
      "66     49100\n",
      "67     54100\n",
      "68     55100\n",
      "69     60100\n",
      "96     49100\n",
      "97     54100\n",
      "98     55100\n",
      "99     60100\n",
      "126    49100\n",
      "127    54100\n",
      "128    55100\n",
      "129    60100\n",
      "156    49100\n",
      "157    54100\n",
      "158    55100\n",
      "159    60100\n",
      "186    49100\n",
      "187    54100\n",
      "188    55100\n",
      "189    60100\n",
      "216    49100\n",
      "217    54100\n",
      "218    55100\n",
      "219    60100\n",
      "246    49100\n",
      "247    54100\n",
      "248    55100\n",
      "249    60100\n",
      "276    49100\n",
      "277    54100\n",
      "278    55100\n",
      "279    60100\n",
      "306    49100\n",
      "307    54100\n",
      "308    55100\n",
      "309    60100\n",
      "336    49100\n",
      "337    54100\n",
      "338    55100\n",
      "339    60100\n",
      "366    49100\n",
      "367    54100\n",
      "368    55100\n",
      "369    60100\n",
      "396    49100\n",
      "397    54100\n",
      "398    55100\n",
      "399    60100\n",
      "426    49100\n",
      "427    54100\n",
      "428    55100\n",
      "429    60100\n",
      "Name: Avg Price, dtype: int64\n"
     ]
    },
    {
     "data": {
      "image/png": "[encoded data removed]",
      "text/plain": [
       "<Figure size 640x480 with 1 Axes>"
      ]
     },
     "metadata": {},
     "output_type": "display_data"
    }
   ],
   "source": [
    "df[\"Avg Price\"].plot(kind=\"box\",vert=False)    \n",
    "q1=np.percentile(df[\"Avg Price\"],25)\n",
    "q3=np.percentile(df[\"Avg Price\"],75)\n",
    "IQR=q3-q1\n",
    "UW=q3+1.5*IQR\n",
    "Outliers=df[\"Avg Price\"][df[\"Avg Price\"]>UW]\n",
    "print(\"The extreme values(Outliers)are:\",\"\\n\",Outliers)"
   ]
  },
  {
   "cell_type": "code",
   "execution_count": 79,
   "id": "2cf26da5-c7ae-40b2-854b-343893059b4f",
   "metadata": {},
   "outputs": [
    {
     "name": "stdout",
     "output_type": "stream",
     "text": [
      "The extreme values(Outliers)are: \n",
      " 0      181500\n",
      "6      147300\n",
      "9      180300\n",
      "30     133100\n",
      "36     147300\n",
      "38     165300\n",
      "39     180300\n",
      "66     196400\n",
      "96     147300\n",
      "126    147300\n",
      "127    162300\n",
      "157    162300\n",
      "180    145200\n",
      "186    147300\n",
      "187    162300\n",
      "188    165300\n",
      "189    180300\n",
      "210    169400\n",
      "216    147300\n",
      "240    181500\n",
      "243    140700\n",
      "246    147300\n",
      "278    165300\n",
      "300    145200\n",
      "306    147300\n",
      "308    165300\n",
      "309    180300\n",
      "338    165300\n",
      "339    180300\n",
      "363    140700\n",
      "366    147300\n",
      "390    133100\n",
      "396    147300\n",
      "420    157300\n",
      "426    147300\n",
      "428    165300\n",
      "Name: Total Sales Value, dtype: int64\n"
     ]
    },
    {
     "data": {
      "image/png": "[encoded data removed]",
      "text/plain": [
       "<Figure size 640x480 with 1 Axes>"
      ]
     },
     "metadata": {},
     "output_type": "display_data"
    }
   ],
   "source": [
    "df[\"Total Sales Value\"].plot(kind=\"box\",vert=False)    \n",
    "q1=np.percentile(df[\"Total Sales Value\"],25)\n",
    "q3=np.percentile(df[\"Total Sales Value\"],75)\n",
    "IQR=q3-q1\n",
    "UW=q3+1.5*IQR\n",
    "Outliers=df[\"Total Sales Value\"][df[\"Total Sales Value\"]>UW]\n",
    "print(\"The extreme values(Outliers)are:\",\"\\n\",Outliers)"
   ]
  },
  {
   "cell_type": "code",
   "execution_count": 80,
   "id": "1a7fc5cb-2679-4da2-8cab-1bbd7879d149",
   "metadata": {},
   "outputs": [
    {
     "name": "stdout",
     "output_type": "stream",
     "text": [
      "The extreme values(Outliers)are: \n",
      " 0      11.654820\n",
      "1      11.560498\n",
      "2       9.456886\n",
      "3       6.935385\n",
      "4      17.995663\n",
      "         ...    \n",
      "445    15.475687\n",
      "446    17.057027\n",
      "447    18.965550\n",
      "448    16.793014\n",
      "449    15.333300\n",
      "Name: Discount Rate (%), Length: 450, dtype: float64\n"
     ]
    },
    {
     "data": {
      "image/png": "[encoded data removed]",
      "text/plain": [
       "<Figure size 640x480 with 1 Axes>"
      ]
     },
     "metadata": {},
     "output_type": "display_data"
    }
   ],
   "source": [
    "df[\"Discount Rate (%)\"].plot(kind=\"box\",vert=False)    \n",
    "q1=np.percentile(df[\"Discount Rate (%)\"],25)\n",
    "q3=np.percentile(df[\"Discount Rate (%)\"],75)\n",
    "IQR=q3-q1\n",
    "UW=q3+1.5*IQR\n",
    "Outliers=df[\"Discount Rate (%)\"][df[\"Discount Rate (%)\"]<UW]\n",
    "print(\"The extreme values(Outliers)are:\",\"\\n\",Outliers)"
   ]
  },
  {
   "cell_type": "code",
   "execution_count": 82,
   "id": "3fa6ae26-9f1f-46ae-8a61-772773e27774",
   "metadata": {},
   "outputs": [
    {
     "name": "stdout",
     "output_type": "stream",
     "text": [
      "The extreme values(Outliers)are: \n",
      " 0      21153.49882\n",
      "6      13594.03972\n",
      "9      17900.98373\n",
      "30     17445.60383\n",
      "38     13951.66019\n",
      "39     16384.02901\n",
      "66     16892.52095\n",
      "90     15214.64332\n",
      "96     12622.50366\n",
      "180    17178.33186\n",
      "186    12753.56596\n",
      "188    13999.93850\n",
      "189    17696.81362\n",
      "210    25328.22420\n",
      "216    13608.23832\n",
      "240    25738.02219\n",
      "300    21496.67537\n",
      "309    16332.91993\n",
      "339    14036.83865\n",
      "363    12734.00901\n",
      "366    13275.78074\n",
      "390    16218.59472\n",
      "396    13382.22733\n",
      "420    15984.73228\n",
      "Name: Discount Amount, dtype: float64\n"
     ]
    },
    {
     "data": {
      "image/png": "[encoded data removed]",
      "text/plain": [
       "<Figure size 640x480 with 1 Axes>"
      ]
     },
     "metadata": {},
     "output_type": "display_data"
    }
   ],
   "source": [
    "df[\"Discount Amount\"].plot(kind=\"box\",vert=False)    \n",
    "q1=np.percentile(df[\"Discount Amount\"],25)\n",
    "q3=np.percentile(df[\"Discount Amount\"],75)\n",
    "IQR=q3-q1\n",
    "UW=q3+1.5*IQR\n",
    "Outliers=df[\"Discount Amount\"][df[\"Discount Amount\"]>UW]\n",
    "print(\"The extreme values(Outliers)are:\",\"\\n\",Outliers)"
   ]
  },
  {
   "cell_type": "code",
   "execution_count": 81,
   "id": "34b88b24-819f-48e9-a5d1-02206acce432",
   "metadata": {},
   "outputs": [
    {
     "name": "stdout",
     "output_type": "stream",
     "text": [
      "The extreme values(Outliers)are: \n",
      " 0      160346.5012\n",
      "6      133705.9603\n",
      "9      162399.0163\n",
      "36     139563.6382\n",
      "38     151348.3398\n",
      "39     163915.9710\n",
      "66     179507.4790\n",
      "96     134677.4963\n",
      "126    134731.9546\n",
      "127    152667.3584\n",
      "157    151182.4895\n",
      "180    128021.6681\n",
      "186    134546.4340\n",
      "187    150648.9279\n",
      "188    151300.0615\n",
      "189    162603.1864\n",
      "210    144071.7758\n",
      "216    133691.7617\n",
      "240    155761.9778\n",
      "243    130557.8333\n",
      "246    136485.4191\n",
      "278    154937.4855\n",
      "300    123703.3246\n",
      "306    134934.9467\n",
      "308    154541.0874\n",
      "309    163967.0801\n",
      "338    156895.9688\n",
      "339    166263.1613\n",
      "363    127965.9910\n",
      "366    134024.2193\n",
      "390    116881.4053\n",
      "396    133917.7727\n",
      "420    141315.2677\n",
      "426    138449.9220\n",
      "428    156330.9699\n",
      "Name: Net Sales Value, dtype: float64\n"
     ]
    },
    {
     "data": {
      "image/png": "[encoded data removed]",
      "text/plain": [
       "<Figure size 640x480 with 1 Axes>"
      ]
     },
     "metadata": {},
     "output_type": "display_data"
    }
   ],
   "source": [
    "df[\"Net Sales Value\"].plot(kind=\"box\",vert=False)    \n",
    "q1=np.percentile(df[\"Net Sales Value\"],25)\n",
    "q3=np.percentile(df[\"Net Sales Value\"],75)\n",
    "IQR=q3-q1\n",
    "UW=q3+1.5*IQR\n",
    "Outliers=df[\"Net Sales Value\"][df[\"Net Sales Value\"]>UW]\n",
    "print(\"The extreme values(Outliers)are:\",\"\\n\",Outliers)"
   ]
  },
  {
   "cell_type": "code",
   "execution_count": 35,
   "id": "a47cfac7-f832-4b83-8bbd-b0eb3bdcc629",
   "metadata": {},
   "outputs": [],
   "source": [
    "                                                              #Bar graphs"
   ]
  },
  {
   "cell_type": "code",
   "execution_count": 86,
   "id": "19cbc8e2-50df-4c75-829c-14459501628d",
   "metadata": {},
   "outputs": [
    {
     "name": "stdout",
     "output_type": "stream",
     "text": [
      "Categorical columns in the dataset are:\n"
     ]
    },
    {
     "data": {
      "text/html": [
       "<div>\n",
       "<style scoped>\n",
       "    .dataframe tbody tr th:only-of-type {\n",
       "        vertical-align: middle;\n",
       "    }\n",
       "\n",
       "    .dataframe tbody tr th {\n",
       "        vertical-align: top;\n",
       "    }\n",
       "\n",
       "    .dataframe thead th {\n",
       "        text-align: right;\n",
       "    }\n",
       "</style>\n",
       "<table border=\"1\" class=\"dataframe\">\n",
       "  <thead>\n",
       "    <tr style=\"text-align: right;\">\n",
       "      <th></th>\n",
       "      <th>Date</th>\n",
       "      <th>Day</th>\n",
       "      <th>SKU</th>\n",
       "      <th>City</th>\n",
       "      <th>BU</th>\n",
       "      <th>Brand</th>\n",
       "      <th>Model</th>\n",
       "    </tr>\n",
       "  </thead>\n",
       "  <tbody>\n",
       "    <tr>\n",
       "      <th>0</th>\n",
       "      <td>01-04-2021</td>\n",
       "      <td>Thursday</td>\n",
       "      <td>M01</td>\n",
       "      <td>C</td>\n",
       "      <td>Mobiles</td>\n",
       "      <td>RealU</td>\n",
       "      <td>RU-10</td>\n",
       "    </tr>\n",
       "    <tr>\n",
       "      <th>1</th>\n",
       "      <td>01-04-2021</td>\n",
       "      <td>Thursday</td>\n",
       "      <td>M02</td>\n",
       "      <td>C</td>\n",
       "      <td>Mobiles</td>\n",
       "      <td>RealU</td>\n",
       "      <td>RU-9 Plus</td>\n",
       "    </tr>\n",
       "    <tr>\n",
       "      <th>2</th>\n",
       "      <td>01-04-2021</td>\n",
       "      <td>Thursday</td>\n",
       "      <td>M03</td>\n",
       "      <td>C</td>\n",
       "      <td>Mobiles</td>\n",
       "      <td>YouM</td>\n",
       "      <td>YM-99</td>\n",
       "    </tr>\n",
       "    <tr>\n",
       "      <th>3</th>\n",
       "      <td>01-04-2021</td>\n",
       "      <td>Thursday</td>\n",
       "      <td>M04</td>\n",
       "      <td>C</td>\n",
       "      <td>Mobiles</td>\n",
       "      <td>YouM</td>\n",
       "      <td>YM-99 Plus</td>\n",
       "    </tr>\n",
       "    <tr>\n",
       "      <th>4</th>\n",
       "      <td>01-04-2021</td>\n",
       "      <td>Thursday</td>\n",
       "      <td>M05</td>\n",
       "      <td>C</td>\n",
       "      <td>Mobiles</td>\n",
       "      <td>YouM</td>\n",
       "      <td>YM-98</td>\n",
       "    </tr>\n",
       "    <tr>\n",
       "      <th>...</th>\n",
       "      <td>...</td>\n",
       "      <td>...</td>\n",
       "      <td>...</td>\n",
       "      <td>...</td>\n",
       "      <td>...</td>\n",
       "      <td>...</td>\n",
       "      <td>...</td>\n",
       "    </tr>\n",
       "    <tr>\n",
       "      <th>445</th>\n",
       "      <td>15-04-2021</td>\n",
       "      <td>Thursday</td>\n",
       "      <td>L06</td>\n",
       "      <td>C</td>\n",
       "      <td>Lifestyle</td>\n",
       "      <td>Jeera</td>\n",
       "      <td>M-Casuals</td>\n",
       "    </tr>\n",
       "    <tr>\n",
       "      <th>446</th>\n",
       "      <td>15-04-2021</td>\n",
       "      <td>Thursday</td>\n",
       "      <td>L07</td>\n",
       "      <td>C</td>\n",
       "      <td>Lifestyle</td>\n",
       "      <td>Viva</td>\n",
       "      <td>W-Western</td>\n",
       "    </tr>\n",
       "    <tr>\n",
       "      <th>447</th>\n",
       "      <td>15-04-2021</td>\n",
       "      <td>Thursday</td>\n",
       "      <td>L08</td>\n",
       "      <td>C</td>\n",
       "      <td>Lifestyle</td>\n",
       "      <td>Viva</td>\n",
       "      <td>W-Lounge</td>\n",
       "    </tr>\n",
       "    <tr>\n",
       "      <th>448</th>\n",
       "      <td>15-04-2021</td>\n",
       "      <td>Thursday</td>\n",
       "      <td>L09</td>\n",
       "      <td>C</td>\n",
       "      <td>Lifestyle</td>\n",
       "      <td>Jeera</td>\n",
       "      <td>M-Formals</td>\n",
       "    </tr>\n",
       "    <tr>\n",
       "      <th>449</th>\n",
       "      <td>15-04-2021</td>\n",
       "      <td>Thursday</td>\n",
       "      <td>L10</td>\n",
       "      <td>C</td>\n",
       "      <td>Lifestyle</td>\n",
       "      <td>Jeera</td>\n",
       "      <td>M-Shoes</td>\n",
       "    </tr>\n",
       "  </tbody>\n",
       "</table>\n",
       "<p>450 rows × 7 columns</p>\n",
       "</div>"
      ],
      "text/plain": [
       "           Date       Day  SKU City         BU  Brand       Model\n",
       "0    01-04-2021  Thursday  M01    C    Mobiles  RealU       RU-10\n",
       "1    01-04-2021  Thursday  M02    C    Mobiles  RealU   RU-9 Plus\n",
       "2    01-04-2021  Thursday  M03    C    Mobiles   YouM       YM-99\n",
       "3    01-04-2021  Thursday  M04    C    Mobiles   YouM  YM-99 Plus\n",
       "4    01-04-2021  Thursday  M05    C    Mobiles   YouM      YM-98 \n",
       "..          ...       ...  ...  ...        ...    ...         ...\n",
       "445  15-04-2021  Thursday  L06    C  Lifestyle  Jeera   M-Casuals\n",
       "446  15-04-2021  Thursday  L07    C  Lifestyle   Viva   W-Western\n",
       "447  15-04-2021  Thursday  L08    C  Lifestyle   Viva    W-Lounge\n",
       "448  15-04-2021  Thursday  L09    C  Lifestyle  Jeera   M-Formals\n",
       "449  15-04-2021  Thursday  L10    C  Lifestyle  Jeera     M-Shoes\n",
       "\n",
       "[450 rows x 7 columns]"
      ]
     },
     "execution_count": 86,
     "metadata": {},
     "output_type": "execute_result"
    }
   ],
   "source": [
    "Categorical=df.select_dtypes('object')\n",
    "print(\"Categorical columns in the dataset are:\")\n",
    "Categorical"
   ]
  },
  {
   "cell_type": "code",
   "execution_count": 38,
   "id": "6b0fe8d6-03a5-4efa-8a8d-2de8acbc1928",
   "metadata": {},
   "outputs": [
    {
     "data": {
      "text/html": [
       "<div>\n",
       "<style scoped>\n",
       "    .dataframe tbody tr th:only-of-type {\n",
       "        vertical-align: middle;\n",
       "    }\n",
       "\n",
       "    .dataframe tbody tr th {\n",
       "        vertical-align: top;\n",
       "    }\n",
       "\n",
       "    .dataframe thead th {\n",
       "        text-align: right;\n",
       "    }\n",
       "</style>\n",
       "<table border=\"1\" class=\"dataframe\">\n",
       "  <thead>\n",
       "    <tr style=\"text-align: right;\">\n",
       "      <th></th>\n",
       "      <th>Date</th>\n",
       "      <th>Day</th>\n",
       "      <th>SKU</th>\n",
       "      <th>City</th>\n",
       "      <th>Volume</th>\n",
       "      <th>BU</th>\n",
       "      <th>Brand</th>\n",
       "      <th>Model</th>\n",
       "      <th>Avg Price</th>\n",
       "      <th>Total Sales Value</th>\n",
       "      <th>Discount Rate (%)</th>\n",
       "      <th>Discount Amount</th>\n",
       "      <th>Net Sales Value</th>\n",
       "    </tr>\n",
       "  </thead>\n",
       "  <tbody>\n",
       "    <tr>\n",
       "      <th>0</th>\n",
       "      <td>01-04-2021</td>\n",
       "      <td>Thursday</td>\n",
       "      <td>M01</td>\n",
       "      <td>C</td>\n",
       "      <td>15</td>\n",
       "      <td>Mobiles</td>\n",
       "      <td>RealU</td>\n",
       "      <td>RU-10</td>\n",
       "      <td>12100</td>\n",
       "      <td>181500</td>\n",
       "      <td>11.654820</td>\n",
       "      <td>21153.498820</td>\n",
       "      <td>160346.50120</td>\n",
       "    </tr>\n",
       "    <tr>\n",
       "      <th>1</th>\n",
       "      <td>01-04-2021</td>\n",
       "      <td>Thursday</td>\n",
       "      <td>M02</td>\n",
       "      <td>C</td>\n",
       "      <td>10</td>\n",
       "      <td>Mobiles</td>\n",
       "      <td>RealU</td>\n",
       "      <td>RU-9 Plus</td>\n",
       "      <td>10100</td>\n",
       "      <td>101000</td>\n",
       "      <td>11.560498</td>\n",
       "      <td>11676.102960</td>\n",
       "      <td>89323.89704</td>\n",
       "    </tr>\n",
       "    <tr>\n",
       "      <th>2</th>\n",
       "      <td>01-04-2021</td>\n",
       "      <td>Thursday</td>\n",
       "      <td>M03</td>\n",
       "      <td>C</td>\n",
       "      <td>7</td>\n",
       "      <td>Mobiles</td>\n",
       "      <td>YouM</td>\n",
       "      <td>YM-99</td>\n",
       "      <td>16100</td>\n",
       "      <td>112700</td>\n",
       "      <td>9.456886</td>\n",
       "      <td>10657.910160</td>\n",
       "      <td>102042.08980</td>\n",
       "    </tr>\n",
       "    <tr>\n",
       "      <th>3</th>\n",
       "      <td>01-04-2021</td>\n",
       "      <td>Thursday</td>\n",
       "      <td>M04</td>\n",
       "      <td>C</td>\n",
       "      <td>6</td>\n",
       "      <td>Mobiles</td>\n",
       "      <td>YouM</td>\n",
       "      <td>YM-99 Plus</td>\n",
       "      <td>20100</td>\n",
       "      <td>120600</td>\n",
       "      <td>6.935385</td>\n",
       "      <td>8364.074702</td>\n",
       "      <td>112235.92530</td>\n",
       "    </tr>\n",
       "    <tr>\n",
       "      <th>4</th>\n",
       "      <td>01-04-2021</td>\n",
       "      <td>Thursday</td>\n",
       "      <td>M05</td>\n",
       "      <td>C</td>\n",
       "      <td>3</td>\n",
       "      <td>Mobiles</td>\n",
       "      <td>YouM</td>\n",
       "      <td>YM-98</td>\n",
       "      <td>8100</td>\n",
       "      <td>24300</td>\n",
       "      <td>17.995663</td>\n",
       "      <td>4372.946230</td>\n",
       "      <td>19927.05377</td>\n",
       "    </tr>\n",
       "  </tbody>\n",
       "</table>\n",
       "</div>"
      ],
      "text/plain": [
       "         Date       Day  SKU City  Volume       BU  Brand       Model  \\\n",
       "0  01-04-2021  Thursday  M01    C      15  Mobiles  RealU       RU-10   \n",
       "1  01-04-2021  Thursday  M02    C      10  Mobiles  RealU   RU-9 Plus   \n",
       "2  01-04-2021  Thursday  M03    C       7  Mobiles   YouM       YM-99   \n",
       "3  01-04-2021  Thursday  M04    C       6  Mobiles   YouM  YM-99 Plus   \n",
       "4  01-04-2021  Thursday  M05    C       3  Mobiles   YouM      YM-98    \n",
       "\n",
       "   Avg Price  Total Sales Value  Discount Rate (%)  Discount Amount  \\\n",
       "0      12100             181500          11.654820     21153.498820   \n",
       "1      10100             101000          11.560498     11676.102960   \n",
       "2      16100             112700           9.456886     10657.910160   \n",
       "3      20100             120600           6.935385      8364.074702   \n",
       "4       8100              24300          17.995663      4372.946230   \n",
       "\n",
       "   Net Sales Value  \n",
       "0     160346.50120  \n",
       "1      89323.89704  \n",
       "2     102042.08980  \n",
       "3     112235.92530  \n",
       "4      19927.05377  "
      ]
     },
     "execution_count": 38,
     "metadata": {},
     "output_type": "execute_result"
    }
   ],
   "source": [
    "df.head()"
   ]
  },
  {
   "cell_type": "code",
   "execution_count": 39,
   "id": "3bf596c2-e488-465d-a313-c1cb8bbe2d3e",
   "metadata": {},
   "outputs": [
    {
     "data": {
      "text/plain": [
       "<Axes: xlabel='Date'>"
      ]
     },
     "execution_count": 39,
     "metadata": {},
     "output_type": "execute_result"
    },
    {
     "data": {
      "image/png": "[encoded data removed]",
      "text/plain": [
       "<Figure size 640x480 with 1 Axes>"
      ]
     },
     "metadata": {},
     "output_type": "display_data"
    }
   ],
   "source": [
    "date=df.groupby(\"Date\")[\"Total Sales Value\"].sum()\n",
    "date.plot(kind=\"bar\")"
   ]
  },
  {
   "cell_type": "code",
   "execution_count": 40,
   "id": "7161fa7c-94c0-43a1-b9d1-083c30f63d44",
   "metadata": {},
   "outputs": [
    {
     "data": {
      "text/plain": [
       "<Axes: xlabel='Day'>"
      ]
     },
     "execution_count": 40,
     "metadata": {},
     "output_type": "execute_result"
    },
    {
     "data": {
      "image/png": "[encoded data removed]",
      "text/plain": [
       "<Figure size 640x480 with 1 Axes>"
      ]
     },
     "metadata": {},
     "output_type": "display_data"
    }
   ],
   "source": [
    "Day=df.groupby(\"Day\")[\"Total Sales Value\"].sum()\n",
    "Day.plot(kind=\"bar\")"
   ]
  },
  {
   "cell_type": "code",
   "execution_count": 41,
   "id": "5050f7f4-f15c-4b36-ba4c-dbf33f0a206f",
   "metadata": {},
   "outputs": [
    {
     "data": {
      "text/plain": [
       "<Axes: xlabel='SKU'>"
      ]
     },
     "execution_count": 41,
     "metadata": {},
     "output_type": "execute_result"
    },
    {
     "data": {
      "image/png": "[encoded data removed]",
      "text/plain": [
       "<Figure size 640x480 with 1 Axes>"
      ]
     },
     "metadata": {},
     "output_type": "display_data"
    }
   ],
   "source": [
    "SKU=df.groupby(\"SKU\")[\"Total Sales Value\"].sum()\n",
    "SKU.plot(kind=\"bar\")"
   ]
  },
  {
   "cell_type": "code",
   "execution_count": 43,
   "id": "04cc88b5-cba2-4a48-abe2-f65067be1c8f",
   "metadata": {},
   "outputs": [
    {
     "data": {
      "text/plain": [
       "<Axes: xlabel='BU'>"
      ]
     },
     "execution_count": 43,
     "metadata": {},
     "output_type": "execute_result"
    },
    {
     "data": {
      "image/png": "[encoded data removed]",
      "text/plain": [
       "<Figure size 640x480 with 1 Axes>"
      ]
     },
     "metadata": {},
     "output_type": "display_data"
    }
   ],
   "source": [
    "BU=df.groupby(\"BU\")[\"Total Sales Value\"].sum()\n",
    "BU.plot(kind=\"bar\")"
   ]
  },
  {
   "cell_type": "code",
   "execution_count": 44,
   "id": "f6ce506b-90cc-4b72-a64b-8fc6b35a1a34",
   "metadata": {},
   "outputs": [
    {
     "data": {
      "text/plain": [
       "<Axes: xlabel='Brand'>"
      ]
     },
     "execution_count": 44,
     "metadata": {},
     "output_type": "execute_result"
    },
    {
     "data": {
      "image/png": "[encoded data removed]",
      "text/plain": [
       "<Figure size 640x480 with 1 Axes>"
      ]
     },
     "metadata": {},
     "output_type": "display_data"
    }
   ],
   "source": [
    "Brand=df.groupby(\"Brand\")[\"Total Sales Value\"].sum()\n",
    "Brand.plot(kind=\"bar\")"
   ]
  },
  {
   "cell_type": "code",
   "execution_count": 45,
   "id": "c8f9e914-f24c-4fe2-a5fd-9bd18eb9cf99",
   "metadata": {},
   "outputs": [
    {
     "data": {
      "text/plain": [
       "<Axes: xlabel='Model'>"
      ]
     },
     "execution_count": 45,
     "metadata": {},
     "output_type": "execute_result"
    },
    {
     "data": {
      "image/png": "[encoded data removed]",
      "text/plain": [
       "<Figure size 640x480 with 1 Axes>"
      ]
     },
     "metadata": {},
     "output_type": "display_data"
    }
   ],
   "source": [
    "Model=df.groupby(\"Model\")[\"Total Sales Value\"].sum()\n",
    "Model.plot(kind=\"bar\")"
   ]
  },
  {
   "cell_type": "code",
   "execution_count": 92,
   "id": "481b4abb-ba2e-41bb-aea9-e14740f84b07",
   "metadata": {},
   "outputs": [],
   "source": [
    "                         #  <STANDARDIZATION OF NUMERICAL VARIABLES>"
   ]
  },
  {
   "cell_type": "code",
   "execution_count": 93,
   "id": "8e4e7428-00ef-4c8b-8382-1af66f8e139a",
   "metadata": {},
   "outputs": [
    {
     "name": "stdout",
     "output_type": "stream",
     "text": [
      "<class 'pandas.core.frame.DataFrame'>\n",
      "RangeIndex: 450 entries, 0 to 449\n",
      "Data columns (total 13 columns):\n",
      " #   Column             Non-Null Count  Dtype  \n",
      "---  ------             --------------  -----  \n",
      " 0   Date               450 non-null    object \n",
      " 1   Day                450 non-null    object \n",
      " 2   SKU                450 non-null    object \n",
      " 3   City               450 non-null    object \n",
      " 4   Volume             450 non-null    int64  \n",
      " 5   BU                 450 non-null    object \n",
      " 6   Brand              450 non-null    object \n",
      " 7   Model              450 non-null    object \n",
      " 8   Avg Price          450 non-null    int64  \n",
      " 9   Total Sales Value  450 non-null    int64  \n",
      " 10  Discount Rate (%)  450 non-null    float64\n",
      " 11  Discount Amount    450 non-null    float64\n",
      " 12  Net Sales Value    450 non-null    float64\n",
      "dtypes: float64(3), int64(3), object(7)\n",
      "memory usage: 45.8+ KB\n"
     ]
    }
   ],
   "source": [
    "df.info()"
   ]
  },
  {
   "cell_type": "code",
   "execution_count": 116,
   "id": "d9ede34e-c5ef-4974-91c7-5f61d397abc8",
   "metadata": {},
   "outputs": [
    {
     "data": {
      "text/html": [
       "<div>\n",
       "<style scoped>\n",
       "    .dataframe tbody tr th:only-of-type {\n",
       "        vertical-align: middle;\n",
       "    }\n",
       "\n",
       "    .dataframe tbody tr th {\n",
       "        vertical-align: top;\n",
       "    }\n",
       "\n",
       "    .dataframe thead th {\n",
       "        text-align: right;\n",
       "    }\n",
       "</style>\n",
       "<table border=\"1\" class=\"dataframe\">\n",
       "  <thead>\n",
       "    <tr style=\"text-align: right;\">\n",
       "      <th></th>\n",
       "      <th>Volume</th>\n",
       "      <th>Avg Price</th>\n",
       "      <th>Total Sales Value</th>\n",
       "      <th>Discount Rate (%)</th>\n",
       "      <th>Discount Amount</th>\n",
       "      <th>Net Sales Value</th>\n",
       "    </tr>\n",
       "  </thead>\n",
       "  <tbody>\n",
       "    <tr>\n",
       "      <th>0</th>\n",
       "      <td>15</td>\n",
       "      <td>12100</td>\n",
       "      <td>181500</td>\n",
       "      <td>11.654820</td>\n",
       "      <td>21153.498820</td>\n",
       "      <td>160346.501200</td>\n",
       "    </tr>\n",
       "    <tr>\n",
       "      <th>1</th>\n",
       "      <td>10</td>\n",
       "      <td>10100</td>\n",
       "      <td>101000</td>\n",
       "      <td>11.560498</td>\n",
       "      <td>11676.102960</td>\n",
       "      <td>89323.897040</td>\n",
       "    </tr>\n",
       "    <tr>\n",
       "      <th>2</th>\n",
       "      <td>7</td>\n",
       "      <td>16100</td>\n",
       "      <td>112700</td>\n",
       "      <td>9.456886</td>\n",
       "      <td>10657.910160</td>\n",
       "      <td>102042.089800</td>\n",
       "    </tr>\n",
       "    <tr>\n",
       "      <th>3</th>\n",
       "      <td>6</td>\n",
       "      <td>20100</td>\n",
       "      <td>120600</td>\n",
       "      <td>6.935385</td>\n",
       "      <td>8364.074702</td>\n",
       "      <td>112235.925300</td>\n",
       "    </tr>\n",
       "    <tr>\n",
       "      <th>4</th>\n",
       "      <td>3</td>\n",
       "      <td>8100</td>\n",
       "      <td>24300</td>\n",
       "      <td>17.995663</td>\n",
       "      <td>4372.946230</td>\n",
       "      <td>19927.053770</td>\n",
       "    </tr>\n",
       "    <tr>\n",
       "      <th>...</th>\n",
       "      <td>...</td>\n",
       "      <td>...</td>\n",
       "      <td>...</td>\n",
       "      <td>...</td>\n",
       "      <td>...</td>\n",
       "      <td>...</td>\n",
       "    </tr>\n",
       "    <tr>\n",
       "      <th>445</th>\n",
       "      <td>2</td>\n",
       "      <td>1300</td>\n",
       "      <td>2600</td>\n",
       "      <td>15.475687</td>\n",
       "      <td>402.367873</td>\n",
       "      <td>2197.632127</td>\n",
       "    </tr>\n",
       "    <tr>\n",
       "      <th>446</th>\n",
       "      <td>6</td>\n",
       "      <td>2600</td>\n",
       "      <td>15600</td>\n",
       "      <td>17.057027</td>\n",
       "      <td>2660.896242</td>\n",
       "      <td>12939.103760</td>\n",
       "    </tr>\n",
       "    <tr>\n",
       "      <th>447</th>\n",
       "      <td>2</td>\n",
       "      <td>1600</td>\n",
       "      <td>3200</td>\n",
       "      <td>18.965550</td>\n",
       "      <td>606.897606</td>\n",
       "      <td>2593.102394</td>\n",
       "    </tr>\n",
       "    <tr>\n",
       "      <th>448</th>\n",
       "      <td>3</td>\n",
       "      <td>1900</td>\n",
       "      <td>5700</td>\n",
       "      <td>16.793014</td>\n",
       "      <td>957.201826</td>\n",
       "      <td>4742.798174</td>\n",
       "    </tr>\n",
       "    <tr>\n",
       "      <th>449</th>\n",
       "      <td>1</td>\n",
       "      <td>3100</td>\n",
       "      <td>3100</td>\n",
       "      <td>15.333300</td>\n",
       "      <td>475.332295</td>\n",
       "      <td>2624.667705</td>\n",
       "    </tr>\n",
       "  </tbody>\n",
       "</table>\n",
       "<p>450 rows × 6 columns</p>\n",
       "</div>"
      ],
      "text/plain": [
       "     Volume  Avg Price  Total Sales Value  Discount Rate (%)  Discount Amount  \\\n",
       "0        15      12100             181500          11.654820     21153.498820   \n",
       "1        10      10100             101000          11.560498     11676.102960   \n",
       "2         7      16100             112700           9.456886     10657.910160   \n",
       "3         6      20100             120600           6.935385      8364.074702   \n",
       "4         3       8100              24300          17.995663      4372.946230   \n",
       "..      ...        ...                ...                ...              ...   \n",
       "445       2       1300               2600          15.475687       402.367873   \n",
       "446       6       2600              15600          17.057027      2660.896242   \n",
       "447       2       1600               3200          18.965550       606.897606   \n",
       "448       3       1900               5700          16.793014       957.201826   \n",
       "449       1       3100               3100          15.333300       475.332295   \n",
       "\n",
       "     Net Sales Value  \n",
       "0      160346.501200  \n",
       "1       89323.897040  \n",
       "2      102042.089800  \n",
       "3      112235.925300  \n",
       "4       19927.053770  \n",
       "..               ...  \n",
       "445      2197.632127  \n",
       "446     12939.103760  \n",
       "447      2593.102394  \n",
       "448      4742.798174  \n",
       "449      2624.667705  \n",
       "\n",
       "[450 rows x 6 columns]"
      ]
     },
     "execution_count": 116,
     "metadata": {},
     "output_type": "execute_result"
    }
   ],
   "source": [
    "#  <DATA BEFORE STANDARDIZATION>\n",
    "x_count=df.iloc[:,[4,8,9,10,11,12]]\n",
    "x_count"
   ]
  },
  {
   "cell_type": "code",
   "execution_count": 119,
   "id": "cba73a2c-bc56-43a0-924e-d47d56162551",
   "metadata": {},
   "outputs": [
    {
     "data": {
      "text/html": [
       "<div>\n",
       "<style scoped>\n",
       "    .dataframe tbody tr th:only-of-type {\n",
       "        vertical-align: middle;\n",
       "    }\n",
       "\n",
       "    .dataframe tbody tr th {\n",
       "        vertical-align: top;\n",
       "    }\n",
       "\n",
       "    .dataframe thead th {\n",
       "        text-align: right;\n",
       "    }\n",
       "</style>\n",
       "<table border=\"1\" class=\"dataframe\">\n",
       "  <thead>\n",
       "    <tr style=\"text-align: right;\">\n",
       "      <th></th>\n",
       "      <th>Volume</th>\n",
       "      <th>Avg Price</th>\n",
       "      <th>Total Sales Value</th>\n",
       "      <th>Discount Rate (%)</th>\n",
       "      <th>Discount Amount</th>\n",
       "      <th>Net Sales Value</th>\n",
       "    </tr>\n",
       "  </thead>\n",
       "  <tbody>\n",
       "    <tr>\n",
       "      <th>0</th>\n",
       "      <td>2.350029</td>\n",
       "      <td>0.091173</td>\n",
       "      <td>2.925721</td>\n",
       "      <td>-0.830289</td>\n",
       "      <td>3.952816</td>\n",
       "      <td>2.804756</td>\n",
       "    </tr>\n",
       "    <tr>\n",
       "      <th>1</th>\n",
       "      <td>1.167129</td>\n",
       "      <td>-0.019570</td>\n",
       "      <td>1.330995</td>\n",
       "      <td>-0.852661</td>\n",
       "      <td>1.849014</td>\n",
       "      <td>1.271026</td>\n",
       "    </tr>\n",
       "    <tr>\n",
       "      <th>2</th>\n",
       "      <td>0.457388</td>\n",
       "      <td>0.312659</td>\n",
       "      <td>1.562775</td>\n",
       "      <td>-1.351631</td>\n",
       "      <td>1.622995</td>\n",
       "      <td>1.545675</td>\n",
       "    </tr>\n",
       "    <tr>\n",
       "      <th>3</th>\n",
       "      <td>0.220808</td>\n",
       "      <td>0.534146</td>\n",
       "      <td>1.719276</td>\n",
       "      <td>-1.949723</td>\n",
       "      <td>1.113807</td>\n",
       "      <td>1.765810</td>\n",
       "    </tr>\n",
       "    <tr>\n",
       "      <th>4</th>\n",
       "      <td>-0.488932</td>\n",
       "      <td>-0.130313</td>\n",
       "      <td>-0.188452</td>\n",
       "      <td>0.673739</td>\n",
       "      <td>0.227852</td>\n",
       "      <td>-0.227595</td>\n",
       "    </tr>\n",
       "    <tr>\n",
       "      <th>...</th>\n",
       "      <td>...</td>\n",
       "      <td>...</td>\n",
       "      <td>...</td>\n",
       "      <td>...</td>\n",
       "      <td>...</td>\n",
       "      <td>...</td>\n",
       "    </tr>\n",
       "    <tr>\n",
       "      <th>445</th>\n",
       "      <td>-0.725512</td>\n",
       "      <td>-0.506840</td>\n",
       "      <td>-0.618334</td>\n",
       "      <td>0.076009</td>\n",
       "      <td>-0.653541</td>\n",
       "      <td>-0.610461</td>\n",
       "    </tr>\n",
       "    <tr>\n",
       "      <th>446</th>\n",
       "      <td>0.220808</td>\n",
       "      <td>-0.434857</td>\n",
       "      <td>-0.360801</td>\n",
       "      <td>0.451097</td>\n",
       "      <td>-0.152191</td>\n",
       "      <td>-0.378500</td>\n",
       "    </tr>\n",
       "    <tr>\n",
       "      <th>447</th>\n",
       "      <td>-0.725512</td>\n",
       "      <td>-0.490229</td>\n",
       "      <td>-0.606448</td>\n",
       "      <td>0.903793</td>\n",
       "      <td>-0.608140</td>\n",
       "      <td>-0.601921</td>\n",
       "    </tr>\n",
       "    <tr>\n",
       "      <th>448</th>\n",
       "      <td>-0.488932</td>\n",
       "      <td>-0.473617</td>\n",
       "      <td>-0.556923</td>\n",
       "      <td>0.388474</td>\n",
       "      <td>-0.530379</td>\n",
       "      <td>-0.555499</td>\n",
       "    </tr>\n",
       "    <tr>\n",
       "      <th>449</th>\n",
       "      <td>-0.962092</td>\n",
       "      <td>-0.407171</td>\n",
       "      <td>-0.608429</td>\n",
       "      <td>0.042235</td>\n",
       "      <td>-0.637345</td>\n",
       "      <td>-0.601239</td>\n",
       "    </tr>\n",
       "  </tbody>\n",
       "</table>\n",
       "<p>450 rows × 6 columns</p>\n",
       "</div>"
      ],
      "text/plain": [
       "       Volume  Avg Price  Total Sales Value  Discount Rate (%)  \\\n",
       "0    2.350029   0.091173           2.925721          -0.830289   \n",
       "1    1.167129  -0.019570           1.330995          -0.852661   \n",
       "2    0.457388   0.312659           1.562775          -1.351631   \n",
       "3    0.220808   0.534146           1.719276          -1.949723   \n",
       "4   -0.488932  -0.130313          -0.188452           0.673739   \n",
       "..        ...        ...                ...                ...   \n",
       "445 -0.725512  -0.506840          -0.618334           0.076009   \n",
       "446  0.220808  -0.434857          -0.360801           0.451097   \n",
       "447 -0.725512  -0.490229          -0.606448           0.903793   \n",
       "448 -0.488932  -0.473617          -0.556923           0.388474   \n",
       "449 -0.962092  -0.407171          -0.608429           0.042235   \n",
       "\n",
       "     Discount Amount  Net Sales Value  \n",
       "0           3.952816         2.804756  \n",
       "1           1.849014         1.271026  \n",
       "2           1.622995         1.545675  \n",
       "3           1.113807         1.765810  \n",
       "4           0.227852        -0.227595  \n",
       "..               ...              ...  \n",
       "445        -0.653541        -0.610461  \n",
       "446        -0.152191        -0.378500  \n",
       "447        -0.608140        -0.601921  \n",
       "448        -0.530379        -0.555499  \n",
       "449        -0.637345        -0.601239  \n",
       "\n",
       "[450 rows x 6 columns]"
      ]
     },
     "execution_count": 119,
     "metadata": {},
     "output_type": "execute_result"
    }
   ],
   "source": [
    "#  <DATA AFTER THE STANDARDIZATION>\n",
    "from sklearn.preprocessing import StandardScaler\n",
    "ss=StandardScaler()                                 \n",
    "ss_x=ss.fit_transform(x_count)\n",
    "ss_x=pd.DataFrame(ss_x)\n",
    "ss_x.columns=list(x_count)  # this line for the coulumn names\n",
    "ss_x"
   ]
  },
  {
   "cell_type": "code",
   "execution_count": 120,
   "id": "a510c928-0856-44b7-9888-46f7142c1078",
   "metadata": {},
   "outputs": [],
   "source": [
    "                #  <CONVERSION OF CATEGORICAL DATA INTO DUMMY VARIABLES> "
   ]
  },
  {
   "cell_type": "code",
   "execution_count": 166,
   "id": "805ca9f3-4a8d-41cd-8c40-f72be200b53f",
   "metadata": {},
   "outputs": [],
   "source": [
    "#The need for converting categorical data into dummy variables:\n",
    "# 1.Machines understand numerical data rather than text\n",
    "# 2.Using this one can handle multiple categories at a time\n",
    "# 3.It avoids the misleading relations between the variables"
   ]
  },
  {
   "cell_type": "code",
   "execution_count": 122,
   "id": "be1bb373-94e2-4608-af6a-e13f2b406d09",
   "metadata": {},
   "outputs": [],
   "source": [
    "#  <One-hot encoding to the categorical columns, creating binary (0 or 1) columns for each category>"
   ]
  },
  {
   "cell_type": "code",
   "execution_count": 159,
   "id": "89261015-bf6a-4a40-914e-aacdf5ea1add",
   "metadata": {},
   "outputs": [],
   "source": [
    "#  <SELCTING THE CATEGORICAL COLUMNS>\n",
    "Categorical=df.iloc[:,[1,2,3,5,6,7]]"
   ]
  },
  {
   "cell_type": "code",
   "execution_count": 162,
   "id": "c46f3ea3-bbb6-4a5f-9672-ce288e3b186d",
   "metadata": {},
   "outputs": [
    {
     "data": {
      "text/html": [
       "<div>\n",
       "<style scoped>\n",
       "    .dataframe tbody tr th:only-of-type {\n",
       "        vertical-align: middle;\n",
       "    }\n",
       "\n",
       "    .dataframe tbody tr th {\n",
       "        vertical-align: top;\n",
       "    }\n",
       "\n",
       "    .dataframe thead th {\n",
       "        text-align: right;\n",
       "    }\n",
       "</style>\n",
       "<table border=\"1\" class=\"dataframe\">\n",
       "  <thead>\n",
       "    <tr style=\"text-align: right;\">\n",
       "      <th></th>\n",
       "      <th>Day_Friday</th>\n",
       "      <th>Day_Monday</th>\n",
       "      <th>Day_Saturday</th>\n",
       "      <th>Day_Sunday</th>\n",
       "      <th>Day_Thursday</th>\n",
       "      <th>Day_Tuesday</th>\n",
       "      <th>Day_Wednesday</th>\n",
       "      <th>SKU_F01</th>\n",
       "      <th>SKU_F02</th>\n",
       "      <th>SKU_F03</th>\n",
       "      <th>...</th>\n",
       "      <th>Model_Vedic Cream</th>\n",
       "      <th>Model_Vedic Oil</th>\n",
       "      <th>Model_Vedic Shampoo</th>\n",
       "      <th>Model_W-Casuals</th>\n",
       "      <th>Model_W-Inners</th>\n",
       "      <th>Model_W-Lounge</th>\n",
       "      <th>Model_W-Western</th>\n",
       "      <th>Model_YM-98</th>\n",
       "      <th>Model_YM-99</th>\n",
       "      <th>Model_YM-99 Plus</th>\n",
       "    </tr>\n",
       "  </thead>\n",
       "  <tbody>\n",
       "    <tr>\n",
       "      <th>0</th>\n",
       "      <td>0</td>\n",
       "      <td>0</td>\n",
       "      <td>0</td>\n",
       "      <td>0</td>\n",
       "      <td>1</td>\n",
       "      <td>0</td>\n",
       "      <td>0</td>\n",
       "      <td>0</td>\n",
       "      <td>0</td>\n",
       "      <td>0</td>\n",
       "      <td>...</td>\n",
       "      <td>0</td>\n",
       "      <td>0</td>\n",
       "      <td>0</td>\n",
       "      <td>0</td>\n",
       "      <td>0</td>\n",
       "      <td>0</td>\n",
       "      <td>0</td>\n",
       "      <td>0</td>\n",
       "      <td>0</td>\n",
       "      <td>0</td>\n",
       "    </tr>\n",
       "    <tr>\n",
       "      <th>1</th>\n",
       "      <td>0</td>\n",
       "      <td>0</td>\n",
       "      <td>0</td>\n",
       "      <td>0</td>\n",
       "      <td>1</td>\n",
       "      <td>0</td>\n",
       "      <td>0</td>\n",
       "      <td>0</td>\n",
       "      <td>0</td>\n",
       "      <td>0</td>\n",
       "      <td>...</td>\n",
       "      <td>0</td>\n",
       "      <td>0</td>\n",
       "      <td>0</td>\n",
       "      <td>0</td>\n",
       "      <td>0</td>\n",
       "      <td>0</td>\n",
       "      <td>0</td>\n",
       "      <td>0</td>\n",
       "      <td>0</td>\n",
       "      <td>0</td>\n",
       "    </tr>\n",
       "    <tr>\n",
       "      <th>2</th>\n",
       "      <td>0</td>\n",
       "      <td>0</td>\n",
       "      <td>0</td>\n",
       "      <td>0</td>\n",
       "      <td>1</td>\n",
       "      <td>0</td>\n",
       "      <td>0</td>\n",
       "      <td>0</td>\n",
       "      <td>0</td>\n",
       "      <td>0</td>\n",
       "      <td>...</td>\n",
       "      <td>0</td>\n",
       "      <td>0</td>\n",
       "      <td>0</td>\n",
       "      <td>0</td>\n",
       "      <td>0</td>\n",
       "      <td>0</td>\n",
       "      <td>0</td>\n",
       "      <td>0</td>\n",
       "      <td>1</td>\n",
       "      <td>0</td>\n",
       "    </tr>\n",
       "    <tr>\n",
       "      <th>3</th>\n",
       "      <td>0</td>\n",
       "      <td>0</td>\n",
       "      <td>0</td>\n",
       "      <td>0</td>\n",
       "      <td>1</td>\n",
       "      <td>0</td>\n",
       "      <td>0</td>\n",
       "      <td>0</td>\n",
       "      <td>0</td>\n",
       "      <td>0</td>\n",
       "      <td>...</td>\n",
       "      <td>0</td>\n",
       "      <td>0</td>\n",
       "      <td>0</td>\n",
       "      <td>0</td>\n",
       "      <td>0</td>\n",
       "      <td>0</td>\n",
       "      <td>0</td>\n",
       "      <td>0</td>\n",
       "      <td>0</td>\n",
       "      <td>1</td>\n",
       "    </tr>\n",
       "    <tr>\n",
       "      <th>4</th>\n",
       "      <td>0</td>\n",
       "      <td>0</td>\n",
       "      <td>0</td>\n",
       "      <td>0</td>\n",
       "      <td>1</td>\n",
       "      <td>0</td>\n",
       "      <td>0</td>\n",
       "      <td>0</td>\n",
       "      <td>0</td>\n",
       "      <td>0</td>\n",
       "      <td>...</td>\n",
       "      <td>0</td>\n",
       "      <td>0</td>\n",
       "      <td>0</td>\n",
       "      <td>0</td>\n",
       "      <td>0</td>\n",
       "      <td>0</td>\n",
       "      <td>0</td>\n",
       "      <td>1</td>\n",
       "      <td>0</td>\n",
       "      <td>0</td>\n",
       "    </tr>\n",
       "  </tbody>\n",
       "</table>\n",
       "<p>5 rows × 80 columns</p>\n",
       "</div>"
      ],
      "text/plain": [
       "   Day_Friday  Day_Monday  Day_Saturday  Day_Sunday  Day_Thursday  \\\n",
       "0           0           0             0           0             1   \n",
       "1           0           0             0           0             1   \n",
       "2           0           0             0           0             1   \n",
       "3           0           0             0           0             1   \n",
       "4           0           0             0           0             1   \n",
       "\n",
       "   Day_Tuesday  Day_Wednesday  SKU_F01  SKU_F02  SKU_F03  ...  \\\n",
       "0            0              0        0        0        0  ...   \n",
       "1            0              0        0        0        0  ...   \n",
       "2            0              0        0        0        0  ...   \n",
       "3            0              0        0        0        0  ...   \n",
       "4            0              0        0        0        0  ...   \n",
       "\n",
       "   Model_Vedic Cream  Model_Vedic Oil  Model_Vedic Shampoo  Model_W-Casuals  \\\n",
       "0                  0                0                    0                0   \n",
       "1                  0                0                    0                0   \n",
       "2                  0                0                    0                0   \n",
       "3                  0                0                    0                0   \n",
       "4                  0                0                    0                0   \n",
       "\n",
       "   Model_W-Inners  Model_W-Lounge  Model_W-Western  Model_YM-98   Model_YM-99  \\\n",
       "0               0               0                0             0            0   \n",
       "1               0               0                0             0            0   \n",
       "2               0               0                0             0            1   \n",
       "3               0               0                0             0            0   \n",
       "4               0               0                0             1            0   \n",
       "\n",
       "   Model_YM-99 Plus  \n",
       "0                 0  \n",
       "1                 0  \n",
       "2                 0  \n",
       "3                 1  \n",
       "4                 0  \n",
       "\n",
       "[5 rows x 80 columns]"
      ]
     },
     "execution_count": 162,
     "metadata": {},
     "output_type": "execute_result"
    }
   ],
   "source": [
    "#  <TRANSFORMING THE DATA IN CATEGORICAL COLUMNS INTO BINARY AND DISPLAYING)\n",
    "one_hot=pd.get_dummies(Categorical,dtype=int)\n",
    "one_hot.head()"
   ]
  },
  {
   "cell_type": "code",
   "execution_count": 165,
   "id": "5427da05-9fbd-4620-9842-b4fc6bfadde6",
   "metadata": {},
   "outputs": [],
   "source": [
    "                                         #SUMMARY\n",
    "#DESCRIPTIVE ANALYTICS\n",
    "# 1.Loaded the dataset and performed the calculations of mean,mode,median etc...\n",
    "#-------------------------------------------------------------------------------------------------------\n",
    "\n",
    "#DATA VIZUALIZATION\n",
    "# 1.Ploted the numerical and categorical data from the dataset into Histogram,boxplot and barcharts\n",
    "#-------------------------------------------------------------------------------------------------------\n",
    "\n",
    "#IMPORTANCE OF DATA PREPROCESSING\n",
    "# 1.Enhances the data quality by cleanig the data(like outliers)\n",
    "# 2.Reduces the issues of overfitting and underfitting\n",
    "# 3.Under the Standardization:-\n",
    "#       a.Bias won't be there \n",
    "#       b.Errors will be minimal\n",
    "# 4.Under the One-Hot Encoding:-\n",
    "#       a.Converts the categorical data into numerical(which is understood by machine)\n",
    "#       b.Reduces bias ,enhances accuracy\n",
    "#--------------------------------------------------------------------------------------------------------"
   ]
  },
  {
   "cell_type": "code",
   "execution_count": null,
   "id": "14c13a5b-a695-469d-b781-b6386c4f8ee0",
   "metadata": {},
   "outputs": [],
   "source": []
  }
 ],
 "metadata": {
  "kernelspec": {
   "display_name": "Python [conda env:base] *",
   "language": "python",
   "name": "conda-base-py"
  },
  "language_info": {
   "codemirror_mode": {
    "name": "ipython",
    "version": 3
   },
   "file_extension": ".py",
   "mimetype": "text/x-python",
   "name": "python",
   "nbconvert_exporter": "python",
   "pygments_lexer": "ipython3",
   "version": "3.13.5"
  }
 },
 "nbformat": 4,
 "nbformat_minor": 5
}
